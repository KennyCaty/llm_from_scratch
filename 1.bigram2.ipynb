{
 "cells": [
  {
   "cell_type": "markdown",
   "metadata": {},
   "source": [
    "# 使用Cuda并行"
   ]
  },
  {
   "cell_type": "code",
   "execution_count": 1,
   "metadata": {},
   "outputs": [
    {
     "name": "stdout",
     "output_type": "stream",
     "text": [
      "cuda\n"
     ]
    }
   ],
   "source": [
    "import torch\n",
    "import torch.nn as nn\n",
    "from torch.nn import functional as F\n",
    "device = 'cuda' if torch.cuda.is_available() else 'cpu'\n",
    "print(device)\n",
    "\n",
    "block_size = 8\n",
    "batch_size = 4\n",
    "max_iters = 10000\n",
    "learning_rate = 3e-4\n",
    "eval_iters = 250 # 每xx次迭代eval一次"
   ]
  },
  {
   "cell_type": "code",
   "execution_count": 2,
   "metadata": {},
   "outputs": [
    {
     "name": "stdout",
     "output_type": "stream",
     "text": [
      "['\\n', ' ', '!', '\"', '&', \"'\", '(', ')', '*', ',', '-', '.', '0', '1', '2', '3', '4', '5', '6', '7', '8', '9', ':', ';', '?', 'A', 'B', 'C', 'D', 'E', 'F', 'G', 'H', 'I', 'J', 'K', 'L', 'M', 'N', 'O', 'P', 'Q', 'R', 'S', 'T', 'U', 'V', 'W', 'X', 'Y', 'Z', '[', ']', '_', 'a', 'b', 'c', 'd', 'e', 'f', 'g', 'h', 'i', 'j', 'k', 'l', 'm', 'n', 'o', 'p', 'q', 'r', 's', 't', 'u', 'v', 'w', 'x', 'y', 'z', '\\ufeff']\n"
     ]
    }
   ],
   "source": [
    "with open('./wizard_of_oz.txt', 'r', encoding='utf-8') as f:\n",
    "    text = f.read()\n",
    "# 文本中所有字符的集合\n",
    "chars = sorted(set(text))\n",
    "print(chars)\n",
    "vocab_size = len(chars)"
   ]
  },
  {
   "cell_type": "code",
   "execution_count": 3,
   "metadata": {},
   "outputs": [
    {
     "name": "stdout",
     "output_type": "stream",
     "text": [
      "tensor([80,  1,  1, 28, 39, 42, 39, 44, 32, 49,  1, 25, 38, 28,  1, 44, 32, 29,\n",
      "         1, 47, 33, 50, 25, 42, 28,  1, 33, 38,  1, 39, 50,  0,  0,  1,  1, 26,\n",
      "        49,  0,  0,  1,  1, 36, 11,  1, 30, 42, 25, 38, 35,  1, 26, 25, 45, 37,\n",
      "         0,  0,  1,  1, 25, 45, 44, 32, 39, 42,  1, 39, 30,  1, 44, 32, 29,  1,\n",
      "        47, 33, 50, 25, 42, 28,  1, 39, 30,  1, 39, 50,  9,  1, 44, 32, 29,  1,\n",
      "        36, 25, 38, 28,  1, 39, 30,  1, 39, 50])\n"
     ]
    }
   ],
   "source": [
    "# 字符到索引的映射\n",
    "string_to_int = {ch:i for i, ch in enumerate(chars)}\n",
    "int_to_string = {i:ch for i, ch in enumerate(chars)}\n",
    "# encoder 和 decoder\n",
    "encode = lambda s: [string_to_int[c] for c in s]\n",
    "decode = lambda l: ''.join([int_to_string[i] for i in l])  # 接受一个整数列表 l 转换为字符串\n",
    "\n",
    "# 创建数据元素，对整个文本编码\n",
    "data = torch.tensor(encode(text), dtype=torch.long)\n",
    "# 打印前一百个字符\n",
    "print(data[: 100])"
   ]
  },
  {
   "cell_type": "markdown",
   "metadata": {},
   "source": [
    "## 分割数据集"
   ]
  },
  {
   "cell_type": "code",
   "execution_count": 4,
   "metadata": {},
   "outputs": [
    {
     "name": "stdout",
     "output_type": "stream",
     "text": [
      "inputs:\n",
      "tensor([[ 1, 58, 54, 71, 73, 61, 70, 74],\n",
      "        [72, 67, 54, 71, 65, 58, 57,  1],\n",
      "        [66, 58,  1,  5, 50, 58, 55, 11],\n",
      "        [ 1, 54,  1, 56, 74, 71, 75, 58]], device='cuda:0')\n",
      "targets:\n",
      "tensor([[58, 54, 71, 73, 61, 70, 74, 54],\n",
      "        [67, 54, 71, 65, 58, 57,  1, 29],\n",
      "        [58,  1,  5, 50, 58, 55, 11,  5],\n",
      "        [54,  1, 56, 74, 71, 75, 58, 23]], device='cuda:0')\n"
     ]
    }
   ],
   "source": [
    "n = int(0.8*len(data))\n",
    "train_data = data[:n]\n",
    "val_data = data[n:]\n",
    "\n",
    "def get_batch(split):\n",
    "    data = train_data if split == \"train\" else val_data\n",
    "    # 随机一个batch的索引，从0到(len(data)-block_size), 一个batch有batch_size个\n",
    "    # batch_size = 4\n",
    "    ix = torch.randint(len(data) - block_size, (batch_size,))\n",
    "    # print(ix)\n",
    "    # 分批堆叠\n",
    "    x = torch.stack([data[i:i+block_size] for i in ix])\n",
    "    y = torch.stack([data[i+1: i+block_size+1] for i in ix])\n",
    "    # 将数据放在GPU\n",
    "    x, y = x.to(device), y.to(device)\n",
    "    return x, y\n",
    "\n",
    "x, y = get_batch(\"train\")\n",
    "print(\"inputs:\")\n",
    "print(x)\n",
    "print(\"targets:\")\n",
    "print(y)"
   ]
  },
  {
   "cell_type": "markdown",
   "metadata": {},
   "source": [
    "# 模型"
   ]
  },
  {
   "cell_type": "code",
   "execution_count": 5,
   "metadata": {},
   "outputs": [
    {
     "name": "stdout",
     "output_type": "stream",
     "text": [
      "\n",
      "H\n",
      "iyJ6v:iuH\n",
      "1-rK4\"85mi?j(71(8XL2G7:45?.yrm&q&hc:OGlle]mBMBPO[_Kv&EGIAdbkGX]zk\n",
      "P*mnlT-y\n",
      "8hoRH:asqqktRhbqEU\n",
      "Ym[C5jar)n&4pG[l7EMBm﻿7Vsu Y8e,kb(R0KVTD'Jk8'A?L'U)!u.)Ecn:s(L,P_fWK0gG jAL!)5M9T-za6pUFX&MPn7!AnS*DKql4\n",
      "TSrDkYFX1pJ﻿\"IBS﻿\"MMtLlRHmT-R*xo\"K\"U4txh7lVA7Nx)2)5QM7oSiH6H:ytA 17R*,\n",
      "&SwnSI_ p[mEA7-C. Ajc\n",
      "O(22R,:SA?C.gwDC\"g X1-3\"\"JW;IwLhv.Q _L.KQ!)5*uF-R]r6 DQkvuh.2*eDz d0BmT-)PBi&LBBi9-4M1j;z!9_TDYp0b]j(68VBtqES(SOj(9W]NDfC]\n",
      ":RkNgw50m4nCES\n",
      "1&l70IMPGUI!,':\"uIk9z﻿Bu9za1&1q4_:d3DGqHMuOj0g:bq&lT'A\"XjM\n"
     ]
    }
   ],
   "source": [
    "class BigramLanguageModel(nn.Module):\n",
    "    def __init__(self, vocab_size):\n",
    "        super().__init__()\n",
    "        # 嵌入表 vocab_size * vocab_size\n",
    "        self.token_embeddings_table = nn.Embedding(vocab_size, vocab_size)\n",
    "        \n",
    "    def forward(self, index, targets=None):\n",
    "        # logits\n",
    "        logits = self.token_embeddings_table(index)\n",
    "        if targets is None:\n",
    "            loss = None\n",
    "        else:\n",
    "            # batch, time(sequence), channels(vocab_size)\n",
    "            B, T, C = logits.shape\n",
    "            logits = logits.view(B*T, C)\n",
    "            targets = targets.view(B*T)\n",
    "            loss = F.cross_entropy(logits, targets)\n",
    "        \n",
    "        return logits, loss\n",
    "    \n",
    "    # 生成token的函数\n",
    "    def generate(self, index, max_new_tokens):\n",
    "        # index is (B, T) array of indices in the current context\n",
    "        # 根据需要生成的token数进行循环\n",
    "        for _ in range(max_new_tokens):\n",
    "            # 获得预测， 这里没有给target，返回的logits是三维的 B*T*C\n",
    "            logits, loss = self.forward(index)\n",
    "            # print(\"shape\", logits.shape)\n",
    "            # 只关心最后一个时间步(time step)\n",
    "            logits = logits[:, -1, :] # become (B, C)\n",
    "            # 应用Softmax，得到概率分布 只应用最后一维\n",
    "            probs = F.softmax(logits, dim=-1) # (B, C)\n",
    "            # 从分布中取样\n",
    "            index_next = torch.multinomial(probs, num_samples=1) # (B, 1)\n",
    "            # 增加取样的索引到当前序列\n",
    "            index = torch.cat((index, index_next), dim=1)  # (B, T+1)\n",
    "        return index\n",
    "    \n",
    "model = BigramLanguageModel(vocab_size)\n",
    "m = model.to(device)\n",
    "\n",
    "# 模拟一下\n",
    "context = torch.zeros((1,1), dtype=torch.long, device=device)\n",
    "generated_chars = decode(m.generate(context, max_new_tokens=500)[0].tolist())\n",
    "print(generated_chars)            "
   ]
  },
  {
   "cell_type": "code",
   "execution_count": 24,
   "metadata": {},
   "outputs": [],
   "source": [
    "@torch.no_grad()\n",
    "def estimate_loss():\n",
    "    out = {}\n",
    "    model.eval()\n",
    "    for split in [\"train\", \"val\"]:\n",
    "        losses = torch.zeros(eval_iters)\n",
    "        for k in range(eval_iters):\n",
    "            X, Y = get_batch(split)\n",
    "            logits, loss = model(X, Y)\n",
    "            losses[k] = loss.item()\n",
    "        out[split] = losses.mean()\n",
    "    model.train()\n",
    "    return out"
   ]
  },
  {
   "cell_type": "markdown",
   "metadata": {},
   "source": [
    "# 优化器"
   ]
  },
  {
   "cell_type": "code",
   "execution_count": 28,
   "metadata": {},
   "outputs": [
    {
     "name": "stdout",
     "output_type": "stream",
     "text": [
      "step:0; train loss:2.44432, val loss:2.46581\n",
      "step:250; train loss:2.45126, val loss:2.50458\n",
      "step:500; train loss:2.43271, val loss:2.49043\n",
      "step:750; train loss:2.43354, val loss:2.50653\n",
      "step:1000; train loss:2.42062, val loss:2.48813\n",
      "step:1250; train loss:2.44351, val loss:2.49834\n",
      "step:1500; train loss:2.43567, val loss:2.47759\n",
      "step:1750; train loss:2.44333, val loss:2.48188\n",
      "step:2000; train loss:2.42228, val loss:2.49519\n",
      "step:2250; train loss:2.43632, val loss:2.49121\n",
      "step:2500; train loss:2.43401, val loss:2.47410\n",
      "step:2750; train loss:2.46757, val loss:2.48198\n",
      "step:3000; train loss:2.42432, val loss:2.50796\n",
      "step:3250; train loss:2.47179, val loss:2.47594\n",
      "step:3500; train loss:2.44430, val loss:2.48144\n",
      "step:3750; train loss:2.44096, val loss:2.49922\n",
      "step:4000; train loss:2.43282, val loss:2.47988\n",
      "step:4250; train loss:2.42430, val loss:2.49980\n",
      "step:4500; train loss:2.42680, val loss:2.47165\n",
      "step:4750; train loss:2.44125, val loss:2.47087\n",
      "step:5000; train loss:2.41843, val loss:2.46795\n",
      "step:5250; train loss:2.42475, val loss:2.49577\n",
      "step:5500; train loss:2.45140, val loss:2.48171\n",
      "step:5750; train loss:2.43226, val loss:2.46311\n",
      "step:6000; train loss:2.44005, val loss:2.47214\n",
      "step:6250; train loss:2.43435, val loss:2.51535\n",
      "step:6500; train loss:2.42451, val loss:2.49396\n",
      "step:6750; train loss:2.43062, val loss:2.47304\n",
      "step:7000; train loss:2.42533, val loss:2.48003\n",
      "step:7250; train loss:2.42231, val loss:2.48497\n",
      "step:7500; train loss:2.43880, val loss:2.48513\n",
      "step:7750; train loss:2.46816, val loss:2.45472\n",
      "step:8000; train loss:2.43952, val loss:2.48408\n",
      "step:8250; train loss:2.41923, val loss:2.49563\n",
      "step:8500; train loss:2.44628, val loss:2.47190\n",
      "step:8750; train loss:2.43114, val loss:2.47767\n",
      "step:9000; train loss:2.42592, val loss:2.49103\n",
      "step:9250; train loss:2.45133, val loss:2.47940\n",
      "step:9500; train loss:2.42766, val loss:2.45558\n",
      "step:9750; train loss:2.44074, val loss:2.48728\n"
     ]
    }
   ],
   "source": [
    "optimizer = torch.optim.AdamW(model.parameters(), lr=learning_rate)\n",
    "\n",
    "for iter in range(max_iters):\n",
    "    # sample\n",
    "    xb, yb = get_batch(\"train\")\n",
    "    \n",
    "    # evaluate\n",
    "    logits, loss = model.forward(xb, yb)\n",
    "    optimizer.zero_grad(set_to_none=True) # 这里设置None会比设置0占用空间小很多\n",
    "    loss.backward()\n",
    "    optimizer.step()\n",
    "    if (iter) % eval_iters == 0:\n",
    "        # print(f\"step:{iter}; loss:{loss.item():.5f}\")\n",
    "        losses = estimate_loss()\n",
    "        print(f\"step:{iter}; train loss:{losses['train']:.5f}, val loss:{losses['val']:.5f}\")\n"
   ]
  },
  {
   "cell_type": "code",
   "execution_count": 29,
   "metadata": {},
   "outputs": [
    {
     "name": "stdout",
     "output_type": "stream",
     "text": [
      "\n",
      "\"ber,\n",
      "\"Wh,\"As win ch avenothexpar fad y themede thre tegabethest awathe e y\n",
      "\n",
      "bup tote wod theverro 2. tcind e, se ththed ave t, mame mery O]Zg  ce no Eulvardy\n",
      "\n",
      "any, ousstt, than t t worof m it o an t lvier sn'le ctthar, a s  ilornthe, ngny whepanqul, list whe, toors  ad We kilafrd talas F tardibst; re t--Vleaf as. the calincoot abutoned 16[k; nd, u. ppo m atheridnksal thimithel s l gre g shit the lasizan pus t g ple\n",
      "\"an hest w avern sthr toth heriowereathese Wid OO-llye hndithe sintint \"Ther oun\n"
     ]
    }
   ],
   "source": [
    "context = torch.zeros((1,1), dtype=torch.long, device=device)\n",
    "generated_chars = decode(m.generate(context, max_new_tokens=500)[0].tolist())\n",
    "print(generated_chars)"
   ]
  },
  {
   "cell_type": "code",
   "execution_count": null,
   "metadata": {},
   "outputs": [],
   "source": []
  }
 ],
 "metadata": {
  "kernelspec": {
   "display_name": "torch",
   "language": "python",
   "name": "python3"
  },
  "language_info": {
   "codemirror_mode": {
    "name": "ipython",
    "version": 3
   },
   "file_extension": ".py",
   "mimetype": "text/x-python",
   "name": "python",
   "nbconvert_exporter": "python",
   "pygments_lexer": "ipython3",
   "version": "3.10.14"
  }
 },
 "nbformat": 4,
 "nbformat_minor": 2
}
